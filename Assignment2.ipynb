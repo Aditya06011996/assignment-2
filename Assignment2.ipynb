{
 "cells": [
  {
   "cell_type": "code",
   "execution_count": null,
   "id": "22ddb382-7350-44a4-9769-742ce8060cf5",
   "metadata": {},
   "outputs": [],
   "source": [
    "Q 1 How do you comment code in python? What are the different types of comments?"
   ]
  },
  {
   "cell_type": "code",
   "execution_count": null,
   "id": "8a4498e3-9f82-4edc-8c44-691a7e46858b",
   "metadata": {},
   "outputs": [],
   "source": [
    "Ans 1 With the help of # we start writing and that will be considered as comment. \n",
    " There are 3 types of comments \n",
    "1.Single line\n",
    "2.Multi line\n",
    "3.Docstrings"
   ]
  },
  {
   "cell_type": "code",
   "execution_count": null,
   "id": "0f183af0-9723-4809-a570-677d3585d5c7",
   "metadata": {},
   "outputs": [],
   "source": [
    "Q 2 What are variables in python? How do you declare and assign values to variables?"
   ]
  },
  {
   "cell_type": "code",
   "execution_count": null,
   "id": "c2a682c2-e899-4ab6-be20-4f890ac381a9",
   "metadata": {},
   "outputs": [],
   "source": [
    "Ans 2 variables are containers for storing data values.\n",
    " A variable is created the moment you first assign a value to it.\n",
    "    x = 10"
   ]
  },
  {
   "cell_type": "code",
   "execution_count": null,
   "id": "9bb0dbd5-d7e8-4b6a-9081-588d5d3d35e4",
   "metadata": {},
   "outputs": [],
   "source": [
    "Q 3 How do you convert one data type to another in phython?"
   ]
  },
  {
   "cell_type": "code",
   "execution_count": null,
   "id": "96ca2db0-b4fb-477d-affe-55f29b195f3a",
   "metadata": {},
   "outputs": [],
   "source": [
    "Ans 3 To convert between types, you simply use the type name as a function.\n",
    "There are several built-in fuctions to perform conversion from one data type to another.\n",
    "These functions return a new object representing the converted value.\n",
    "Ex- 1. int(x)\n",
    "       convert x to an integer.\n",
    "    2. float(x)\n",
    "    convert x to an floating point number."
   ]
  },
  {
   "cell_type": "code",
   "execution_count": null,
   "id": "c5bf6235-8b64-478a-8dc0-b35634879456",
   "metadata": {},
   "outputs": [],
   "source": [
    "Q 4 How do you write and execute a python script from the command line?"
   ]
  },
  {
   "cell_type": "code",
   "execution_count": null,
   "id": "8225e594-dbbb-438a-9f2f-f5b6ca7fc98c",
   "metadata": {},
   "outputs": [],
   "source": [
    "Ans 4 The most basic and easy way to run a python script is by using the python command. You need to open a command line\n",
    "and type the word python followed by the path to your script file like this:\n",
    "    python first_script.py\n",
    "    HELLO WORLD!\n",
    "Then you hit the enter button from the keyboard, and that's it.    "
   ]
  },
  {
   "cell_type": "code",
   "execution_count": null,
   "id": "6a9e31c1-b81d-4dba-920f-6f02e52bf34d",
   "metadata": {},
   "outputs": [],
   "source": [
    "Q 5 Given a list my_list = [1,2,3,4,5], write the code to slice the list and obtain the sub-list [2,3]."
   ]
  },
  {
   "cell_type": "code",
   "execution_count": 1,
   "id": "d25a7088-a15c-449a-9ebb-fcfa5ba49bdf",
   "metadata": {},
   "outputs": [],
   "source": [
    "l = [1,2,3,4,5]"
   ]
  },
  {
   "cell_type": "code",
   "execution_count": 2,
   "id": "cb20a88b-7e2e-4fdc-aed0-600d918d58fe",
   "metadata": {},
   "outputs": [
    {
     "data": {
      "text/plain": [
       "[1, 2, 3, 4, 5]"
      ]
     },
     "execution_count": 2,
     "metadata": {},
     "output_type": "execute_result"
    }
   ],
   "source": [
    "l"
   ]
  },
  {
   "cell_type": "code",
   "execution_count": 4,
   "id": "949ac4e7-d1bc-44da-ad39-9595c6db5d58",
   "metadata": {},
   "outputs": [
    {
     "data": {
      "text/plain": [
       "[2, 3]"
      ]
     },
     "execution_count": 4,
     "metadata": {},
     "output_type": "execute_result"
    }
   ],
   "source": [
    "l[1:3]"
   ]
  },
  {
   "cell_type": "code",
   "execution_count": null,
   "id": "e11f359c-7a9f-45f2-9624-02fac9386709",
   "metadata": {},
   "outputs": [],
   "source": [
    "Q 6 What is a complex number in methamatics , and how is it represented in python?"
   ]
  },
  {
   "cell_type": "code",
   "execution_count": 5,
   "id": "1cfbaf55-5e9f-4281-9c51-331cd50a2969",
   "metadata": {},
   "outputs": [],
   "source": [
    "#Ans Complex numbers are created from two real numbers. It is written in the form of ( x + yj ) where x and y are real numbers\n",
    "#    and j is an imaginary number which is the square root of -1."
   ]
  },
  {
   "cell_type": "code",
   "execution_count": 8,
   "id": "8b31bfe0-c3be-469a-a9f9-b40c62fc39ab",
   "metadata": {},
   "outputs": [
    {
     "name": "stdout",
     "output_type": "stream",
     "text": [
      "Object `it` not found.\n"
     ]
    }
   ],
   "source": [
    "Q 7 What is the correct way to declare a variable named age and assign the value 25 to it?"
   ]
  },
  {
   "cell_type": "code",
   "execution_count": 10,
   "id": "5f7a6f9f-4c82-48f7-9f3f-32e6b31777ed",
   "metadata": {},
   "outputs": [],
   "source": [
    "age = 25"
   ]
  },
  {
   "cell_type": "code",
   "execution_count": 11,
   "id": "a6a3e013-1784-4a4b-a487-9d50d8341a71",
   "metadata": {},
   "outputs": [
    {
     "data": {
      "text/plain": [
       "25"
      ]
     },
     "execution_count": 11,
     "metadata": {},
     "output_type": "execute_result"
    }
   ],
   "source": [
    "age"
   ]
  },
  {
   "cell_type": "code",
   "execution_count": 14,
   "id": "6ce8011a-e05b-444e-88d7-a5be5ebd9fad",
   "metadata": {},
   "outputs": [],
   "source": [
    "#Q 8 Declare a variable named price and assign the value 9.99 to it. What data type does this variable belong to ?"
   ]
  },
  {
   "cell_type": "code",
   "execution_count": 16,
   "id": "9f5d4e80-f0dc-46db-9992-1b21e30cbdcb",
   "metadata": {},
   "outputs": [],
   "source": [
    " price = 9.99"
   ]
  },
  {
   "cell_type": "code",
   "execution_count": 17,
   "id": "be8cc2a7-d15a-4bab-b90b-ca2d47f44658",
   "metadata": {},
   "outputs": [
    {
     "data": {
      "text/plain": [
       "9.99"
      ]
     },
     "execution_count": 17,
     "metadata": {},
     "output_type": "execute_result"
    }
   ],
   "source": [
    "price"
   ]
  },
  {
   "cell_type": "code",
   "execution_count": 18,
   "id": "174aff3e-87c1-499f-8723-728eac8df0ff",
   "metadata": {},
   "outputs": [
    {
     "data": {
      "text/plain": [
       "float"
      ]
     },
     "execution_count": 18,
     "metadata": {},
     "output_type": "execute_result"
    }
   ],
   "source": [
    "type(price)"
   ]
  },
  {
   "cell_type": "code",
   "execution_count": 20,
   "id": "41b9f9e4-a67b-4509-95fc-3f52f70ebc69",
   "metadata": {},
   "outputs": [],
   "source": [
    "#its data type belongs to floating point"
   ]
  },
  {
   "cell_type": "code",
   "execution_count": 21,
   "id": "f5461953-74bc-45b6-a756-e7174ab1150d",
   "metadata": {},
   "outputs": [
    {
     "name": "stdout",
     "output_type": "stream",
     "text": [
      "Object `variable` not found.\n"
     ]
    }
   ],
   "source": [
    "Q 9 Create a variable named name and assign your full name to it as a string. How would you print the value of this variable?"
   ]
  },
  {
   "cell_type": "code",
   "execution_count": 1,
   "id": "64e111d7-bb62-40b3-a12a-12726eab9e8b",
   "metadata": {},
   "outputs": [],
   "source": [
    "name = 'aditya'"
   ]
  },
  {
   "cell_type": "code",
   "execution_count": 2,
   "id": "cea666c7-d5b6-4546-b784-bea7163cf3ef",
   "metadata": {},
   "outputs": [
    {
     "data": {
      "text/plain": [
       "'aditya'"
      ]
     },
     "execution_count": 2,
     "metadata": {},
     "output_type": "execute_result"
    }
   ],
   "source": [
    "name"
   ]
  },
  {
   "cell_type": "code",
   "execution_count": 4,
   "id": "324cf42b-fa72-4192-bdf6-f4ab4dcf298b",
   "metadata": {},
   "outputs": [],
   "source": [
    "#Q 10 Given the string \"Hello,World!\", extract the substring \"World\"."
   ]
  },
  {
   "cell_type": "code",
   "execution_count": 5,
   "id": "d7180012-8671-47d1-bb8e-5dcb190ba636",
   "metadata": {},
   "outputs": [],
   "source": [
    "str = \"Hello world\""
   ]
  },
  {
   "cell_type": "code",
   "execution_count": 11,
   "id": "24fe7e54-6d86-4bd7-808c-093ec626fbd7",
   "metadata": {},
   "outputs": [
    {
     "data": {
      "text/plain": [
       "' world'"
      ]
     },
     "execution_count": 11,
     "metadata": {},
     "output_type": "execute_result"
    }
   ],
   "source": [
    "str[7:13]"
   ]
  },
  {
   "cell_type": "code",
   "execution_count": 13,
   "id": "03a2c272-7bd4-48a6-a90b-4b6ffc077e66",
   "metadata": {},
   "outputs": [],
   "source": [
    "#Q 11 Create a variable named \"is_student\" and assign it a boolean value indicating whether you are currently a student or not."
   ]
  },
  {
   "cell_type": "code",
   "execution_count": 16,
   "id": "71c03ec2-b888-4901-b338-e114fe3cda2a",
   "metadata": {},
   "outputs": [],
   "source": [
    "is_student = True"
   ]
  },
  {
   "cell_type": "code",
   "execution_count": 17,
   "id": "6e2a69b1-92ac-450c-8970-ce1dbbe56846",
   "metadata": {},
   "outputs": [
    {
     "data": {
      "text/plain": [
       "bool"
      ]
     },
     "execution_count": 17,
     "metadata": {},
     "output_type": "execute_result"
    }
   ],
   "source": [
    "type(is_student)"
   ]
  },
  {
   "cell_type": "code",
   "execution_count": null,
   "id": "3c06e7cb-e638-45f0-88ff-edb932c21736",
   "metadata": {},
   "outputs": [],
   "source": []
  }
 ],
 "metadata": {
  "kernelspec": {
   "display_name": "Python 3 (ipykernel)",
   "language": "python",
   "name": "python3"
  },
  "language_info": {
   "codemirror_mode": {
    "name": "ipython",
    "version": 3
   },
   "file_extension": ".py",
   "mimetype": "text/x-python",
   "name": "python",
   "nbconvert_exporter": "python",
   "pygments_lexer": "ipython3",
   "version": "3.10.8"
  }
 },
 "nbformat": 4,
 "nbformat_minor": 5
}
